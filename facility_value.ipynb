{
 "cells": [
  {
   "cell_type": "code",
   "execution_count": 2,
   "metadata": {},
   "outputs": [],
   "source": [
    "import numpy as np\n",
    "import pandas as pd"
   ]
  },
  {
   "cell_type": "code",
   "execution_count": 3,
   "metadata": {},
   "outputs": [
    {
     "data": {
      "text/html": [
       "<div>\n",
       "<style scoped>\n",
       "    .dataframe tbody tr th:only-of-type {\n",
       "        vertical-align: middle;\n",
       "    }\n",
       "\n",
       "    .dataframe tbody tr th {\n",
       "        vertical-align: top;\n",
       "    }\n",
       "\n",
       "    .dataframe thead th {\n",
       "        text-align: right;\n",
       "    }\n",
       "</style>\n",
       "<table border=\"1\" class=\"dataframe\">\n",
       "  <thead>\n",
       "    <tr style=\"text-align: right;\">\n",
       "      <th></th>\n",
       "      <th>id_property_unit</th>\n",
       "      <th>id_property</th>\n",
       "      <th>facility_sub_grp</th>\n",
       "      <th>facility_code</th>\n",
       "      <th>value</th>\n",
       "    </tr>\n",
       "  </thead>\n",
       "  <tbody>\n",
       "    <tr>\n",
       "      <th>0</th>\n",
       "      <td>0</td>\n",
       "      <td>1817</td>\n",
       "      <td>NaN</td>\n",
       "      <td>garden</td>\n",
       "      <td>on</td>\n",
       "    </tr>\n",
       "    <tr>\n",
       "      <th>1</th>\n",
       "      <td>3623</td>\n",
       "      <td>1817</td>\n",
       "      <td>unit_bedroom_equipment</td>\n",
       "      <td>twin_bed</td>\n",
       "      <td>on</td>\n",
       "    </tr>\n",
       "    <tr>\n",
       "      <th>2</th>\n",
       "      <td>3623</td>\n",
       "      <td>1817</td>\n",
       "      <td>unit_bedroom_equipment</td>\n",
       "      <td>unit_wardrobe_closet</td>\n",
       "      <td>on</td>\n",
       "    </tr>\n",
       "  </tbody>\n",
       "</table>\n",
       "</div>"
      ],
      "text/plain": [
       "   id_property_unit  id_property        facility_sub_grp  \\\n",
       "0                 0         1817                     NaN   \n",
       "1              3623         1817  unit_bedroom_equipment   \n",
       "2              3623         1817  unit_bedroom_equipment   \n",
       "\n",
       "          facility_code value  \n",
       "0                garden    on  \n",
       "1              twin_bed    on  \n",
       "2  unit_wardrobe_closet    on  "
      ]
     },
     "execution_count": 3,
     "metadata": {},
     "output_type": "execute_result"
    }
   ],
   "source": [
    "facility = pd.read_csv(\"gen_data/facility_grp.csv\")\n",
    "facility.head(3)"
   ]
  },
  {
   "cell_type": "markdown",
   "metadata": {},
   "source": [
    "### Dobivanje jedinstvenih vrijednosti znacajki bez brojcanih vrijednosti"
   ]
  },
  {
   "cell_type": "code",
   "execution_count": 4,
   "metadata": {},
   "outputs": [
    {
     "name": "stdout",
     "output_type": "stream",
     "text": [
      "0                                 on\n",
      "1                         no-heating\n",
      "2              deposit-is-obligatory\n",
      "3            final-cleaning-in-price\n",
      "4                           yes-free\n",
      "                   ...              \n",
      "120        card_payment_not_accepted\n",
      "121             int-con-public-areas\n",
      "122          int-con-business-centre\n",
      "123                  entire_property\n",
      "124    after_cancellation_fee_begins\n",
      "Length: 125, dtype: object\n"
     ]
    }
   ],
   "source": [
    "values = facility[\"value\"].unique()\n",
    "val=[]\n",
    "for i in values:\n",
    "    try:\n",
    "        int(i[-1]) or int(i[0])\n",
    "    except:\n",
    "        val.append(i)\n",
    "\n",
    "val = pd.Series(val)\n",
    "print(val)"
   ]
  },
  {
   "cell_type": "markdown",
   "metadata": {},
   "source": [
    "### Definiranje funkcije za sortiranje vrijednosti znacajki ovisno o nazivu vrijednosti"
   ]
  },
  {
   "cell_type": "code",
   "execution_count": 5,
   "metadata": {},
   "outputs": [],
   "source": [
    "def sort(string,val):\n",
    "    mask = val.str.contains(string)\n",
    "    dl=[]\n",
    "    for index,i in enumerate(val):\n",
    "        if mask[index] == False:\n",
    "            dl.append(index)\n",
    "    value = val.drop(labels=dl)\n",
    "    return value\n",
    "\n",
    "\n",
    "\n"
   ]
  },
  {
   "cell_type": "code",
   "execution_count": 6,
   "metadata": {},
   "outputs": [
    {
     "data": {
      "text/plain": [
       "4                                   yes-free\n",
       "8                    yes-electicity-in-price\n",
       "10                        yes-water-in-price\n",
       "21                 yes-children-are-wellcome\n",
       "27                                       NaN\n",
       "32                                  yes_free\n",
       "34                          parking_yes_free\n",
       "38                                  yes_pets\n",
       "40                          yes-gas-in-price\n",
       "50                      yes-heating-in-price\n",
       "60                                  yes-paid\n",
       "61                          parking_yes_paid\n",
       "65                       yes-heating-charged\n",
       "66                            yes_obligatory\n",
       "82     yes-children-to-four-without-bad-free\n",
       "88                           yes-gas-charged\n",
       "94                             yes_paid_stay\n",
       "96                                       yes\n",
       "108                        yes-water-charged\n",
       "113     yes-children-to-four-without-bad-pay\n",
       "dtype: object"
      ]
     },
     "execution_count": 6,
     "metadata": {},
     "output_type": "execute_result"
    }
   ],
   "source": [
    "sort(\"yes\",val)\n"
   ]
  },
  {
   "cell_type": "code",
   "execution_count": 7,
   "metadata": {},
   "outputs": [
    {
     "name": "stdout",
     "output_type": "stream",
     "text": [
      "125 125\n"
     ]
    }
   ],
   "source": [
    "val_column = val.tolist()\n",
    "#print(val_column)\n",
    "clean_values =[0] * len(val_column)\n",
    "print(len(clean_values),len(val_column))"
   ]
  },
  {
   "cell_type": "code",
   "execution_count": 8,
   "metadata": {},
   "outputs": [
    {
     "data": {
      "text/plain": [
       "on                         0\n",
       "no-heating                 0\n",
       "deposit-is-obligatory      0\n",
       "final-cleaning-in-price    0\n",
       "yes-free                   0\n",
       "dtype: int64"
      ]
     },
     "execution_count": 8,
     "metadata": {},
     "output_type": "execute_result"
    }
   ],
   "source": [
    "\"\"\" dict = {\"values\":val_column,\"clean\":clean_values}\n",
    "\n",
    "values_df = pd.DataFrame.from_dict(dict)\n",
    "values_df = values_df.set_index(values_df[\"values\"])\n",
    "values_df = values_df.drop([\"values\"],axis = 1)\n",
    "values_df.head() \"\"\"\n",
    "\n",
    "\n",
    "values_s = pd.Series(clean_values,index=val_column)\n",
    "values_s.head()\n",
    "\n"
   ]
  },
  {
   "cell_type": "code",
   "execution_count": 9,
   "metadata": {},
   "outputs": [
    {
     "name": "stdout",
     "output_type": "stream",
     "text": [
      "-1\n"
     ]
    }
   ],
   "source": [
    "values_s[\"on\"] = 1\n",
    "values_s[\"off\"] = -1\n",
    "print(values_s[\"off\"])"
   ]
  },
  {
   "cell_type": "code",
   "execution_count": 10,
   "metadata": {},
   "outputs": [
    {
     "name": "stdout",
     "output_type": "stream",
     "text": [
      "['final-cleaning-in-price', 'yes-electicity-in-price', 'yes-water-in-price', 'yes-gas-in-price', 'yes-heating-in-price']\n"
     ]
    }
   ],
   "source": [
    "ls = sort(\"price\",val).tolist()\n",
    "ls.remove(ls[3])\n",
    "print(ls)"
   ]
  },
  {
   "cell_type": "code",
   "execution_count": 11,
   "metadata": {},
   "outputs": [
    {
     "data": {
      "text/plain": [
       "1"
      ]
     },
     "execution_count": 11,
     "metadata": {},
     "output_type": "execute_result"
    }
   ],
   "source": [
    "for i in ls:\n",
    "    values_s[i]=1\n",
    "    #print(values_s[i])\n",
    "values_s[\"yes-electicity-in-price\"]"
   ]
  },
  {
   "cell_type": "code",
   "execution_count": 12,
   "metadata": {},
   "outputs": [
    {
     "name": "stdout",
     "output_type": "stream",
     "text": [
      "['no-heating', 'no-gas', 'no', 'no_private_entrance', 'no_wheelchair_accessible', 'not-available', 'meals_not_serve', 'breakfast_not_serve', 'lunch_not_serve', 'dinner_not_serve', 'not_needed', 'not-accept', 'extra_beds_not_available', 'no_pets', 'no-deposit', 'no_such_thing', 'no_parking', 'not_available', 'card_payment_not_accepted']\n"
     ]
    }
   ],
   "source": [
    "ls1 = sort(\"no\",val).tolist()\n",
    "ls1.remove(ls1[6])\n",
    "ls1.remove(ls1[-2])\n",
    "print(ls1)\n",
    "values_s['pets_free_no_charges']=1\n",
    "#micanje pets free no charges i nan i postavljanje pets free na values_s =1\n",
    "\n"
   ]
  },
  {
   "cell_type": "code",
   "execution_count": 13,
   "metadata": {},
   "outputs": [
    {
     "data": {
      "text/plain": [
       "-1"
      ]
     },
     "execution_count": 13,
     "metadata": {},
     "output_type": "execute_result"
    }
   ],
   "source": [
    "for i in ls1:\n",
    "    values_s[i]=-1\n",
    "    #print(values_s[i])\n",
    "\n",
    "    \n",
    "values_s[\"no-gas\"]"
   ]
  },
  {
   "cell_type": "code",
   "execution_count": 14,
   "metadata": {},
   "outputs": [
    {
     "name": "stdout",
     "output_type": "stream",
     "text": [
      "['yes-free', 'yes-electicity-in-price', 'yes-water-in-price', 'yes-children-are-wellcome', 'yes_free', 'parking_yes_free', 'yes_pets', 'yes-gas-in-price', 'yes-heating-in-price', 'yes-paid', 'parking_yes_paid', 'yes-heating-charged', 'yes_obligatory', 'yes-children-to-four-without-bad-free', 'yes-gas-charged', 'yes_paid_stay', 'yes', 'yes-water-charged', 'yes-children-to-four-without-bad-pay']\n"
     ]
    },
    {
     "data": {
      "text/plain": [
       "1"
      ]
     },
     "execution_count": 14,
     "metadata": {},
     "output_type": "execute_result"
    }
   ],
   "source": [
    "ls2 = sort(\"yes\",val).tolist()\n",
    "ls2.remove(ls2[4])\n",
    "print(ls2)\n",
    "\n",
    "for i in ls2:\n",
    "    values_s[i]=1\n",
    "    #print(values_s[i])\n",
    "\n",
    "    \n",
    "values_s[\"yes-free\"]"
   ]
  },
  {
   "cell_type": "code",
   "execution_count": 15,
   "metadata": {},
   "outputs": [
    {
     "name": "stdout",
     "output_type": "stream",
     "text": [
      "['final-cleaning-in-price', 'yes-electicity-in-price', 'yes-water-in-price', nan, 'yes-gas-in-price', 'yes-heating-in-price']\n",
      "1\n",
      "1\n"
     ]
    },
    {
     "data": {
      "text/plain": [
       "' for i in ls2:\\n    values_s[i]=1\\n    #print(values_s[i])\\n\\n    \\nvalues_s[\"yes-free\"] '"
      ]
     },
     "execution_count": 15,
     "metadata": {},
     "output_type": "execute_result"
    }
   ],
   "source": [
    "ls3 = sort(\"price\",val).tolist()\n",
    "#ls3.remove(ls3[4])\n",
    "print(ls3)\n",
    "\n",
    "values_s['deposit-is-obligatory'] = -1\n",
    "values_s['yes_obligatory'] = -1\n",
    "values_s['towels_change_daily']=3\n",
    "values_s['towels_change_weekly','pets_charges_may_apply'] = 2\n",
    "values_s[[\"not_needed\",'towels_pperson_standard_plus_mini','towels_pperson_set','towels_pperson_2mini','towels_pperson_standard','final-cleaning-in-price','pets_upon_request']] = 1\n",
    "print(values_s['towels_pperson_standard'])\n",
    "print(values_s['towels_pperson_set'])\n",
    "\n",
    "\"\"\" for i in ls2:\n",
    "    values_s[i]=1\n",
    "    #print(values_s[i])\n",
    "\n",
    "    \n",
    "values_s[\"yes-free\"] \"\"\"\n"
   ]
  },
  {
   "cell_type": "code",
   "execution_count": 16,
   "metadata": {},
   "outputs": [
    {
     "name": "stdout",
     "output_type": "stream",
     "text": [
      "['park_private', 'park_loc_on_site', nan, 'parking_yes_free', 'park_public', 'park_loc_off_site', 'parking_yes_paid', 'no_parking']\n",
      "2\n"
     ]
    }
   ],
   "source": [
    "ls4 = sort(\"park\",val).tolist()\n",
    "#ls4.remove(ls4[4])\n",
    "print(ls4)\n",
    "values_s['park_private', 'park_loc_on_site', 'parking_yes_free']=2\n",
    "values_s[ 'park_public', 'park_loc_off_site', 'parking_yes_paid']=1\n",
    "print(values_s['park_private'])"
   ]
  },
  {
   "cell_type": "code",
   "execution_count": 17,
   "metadata": {},
   "outputs": [
    {
     "name": "stdout",
     "output_type": "stream",
     "text": [
      "['int-con-some-rooms', nan, 'int-con-all-rooms', 'int-con-entire-property', 'int-con-public-areas', 'int-con-business-centre']\n",
      "1\n"
     ]
    }
   ],
   "source": [
    "ls5 = sort(\"int\",val).tolist()\n",
    "#ls5.remove(ls5[4])\n",
    "print(ls5)\n",
    "values_s[ 'int-con-all-rooms', 'int-con-entire-property']=2\n",
    "values_s['int-con-public-areas', 'int-con-business-centre', 'int-con-some-rooms',\"wifi\"]=1\n",
    "print(values_s[\"wifi\"])"
   ]
  },
  {
   "cell_type": "code",
   "execution_count": 18,
   "metadata": {},
   "outputs": [
    {
     "name": "stdout",
     "output_type": "stream",
     "text": [
      "['second_floor', 'first_floor', nan, 'upper_floor_reachable_by_stairs_only', 'ground_floor', 'entire_property_on_ground_floor', 'third_floor', 'fourth_floor']\n"
     ]
    }
   ],
   "source": [
    "ls6 = sort(\"floor\",val).tolist()\n",
    "#ls6.remove(ls6[4])\n",
    "print(ls6)\n",
    "values_s['final-cleaning-in-price']=1\n",
    "values_s['final-cleaning-charged']=-1\n",
    "values_s[ 'ground_floor',\"entire_property\", 'upper_floor_reachable_by_stairs_only'] = 1\n",
    "values_s['entire_property_on_ground_floor'] = 6\n",
    "values_s['first_floor'] = 2\n",
    "values_s['second_floor'] = 3\n",
    "values_s['third_floor'] = 4\n",
    "values_s['fourth_floor'] = 5"
   ]
  },
  {
   "cell_type": "code",
   "execution_count": 19,
   "metadata": {},
   "outputs": [
    {
     "name": "stdout",
     "output_type": "stream",
     "text": [
      "['second_floor', 'first_floor', nan, 'upper_floor_reachable_by_stairs_only', 'ground_floor', 'entire_property_on_ground_floor', 'third_floor', 'fourth_floor']\n"
     ]
    }
   ],
   "source": [
    "ls7 = sort(\"floor\",val).tolist()\n",
    "#ls6.remove(ls6[4])\n",
    "print(ls7)\n",
    "values_s['extra_beds_available','bed_linen_change_weekly'] = 1"
   ]
  },
  {
   "cell_type": "code",
   "execution_count": 20,
   "metadata": {},
   "outputs": [
    {
     "data": {
      "text/plain": [
       "on                               1\n",
       "no-heating                      -1\n",
       "deposit-is-obligatory           -1\n",
       "final-cleaning-in-price          1\n",
       "yes-free                         1\n",
       "                                ..\n",
       "card_payment_not_accepted       -1\n",
       "int-con-public-areas             1\n",
       "int-con-business-centre          1\n",
       "entire_property                  1\n",
       "after_cancellation_fee_begins    0\n",
       "Length: 125, dtype: int64"
      ]
     },
     "execution_count": 20,
     "metadata": {},
     "output_type": "execute_result"
    }
   ],
   "source": [
    "v_index =values_s.index\n",
    "values_s"
   ]
  },
  {
   "cell_type": "code",
   "execution_count": 37,
   "metadata": {},
   "outputs": [
    {
     "data": {
      "text/plain": [
       "0         on\n",
       "1         on\n",
       "2         on\n",
       "3         on\n",
       "4         on\n",
       "          ..\n",
       "211153    on\n",
       "211154    on\n",
       "211155    on\n",
       "211169    on\n",
       "211170    on\n",
       "Name: value, Length: 96760, dtype: object"
      ]
     },
     "execution_count": 37,
     "metadata": {},
     "output_type": "execute_result"
    }
   ],
   "source": [
    "facility[facility[\"value\"]==\"on\"][\"value\"]\n"
   ]
  },
  {
   "cell_type": "code",
   "execution_count": null,
   "metadata": {},
   "outputs": [],
   "source": []
  },
  {
   "cell_type": "code",
   "execution_count": 22,
   "metadata": {},
   "outputs": [],
   "source": [
    "valuenum = values_s[values_s!=0]\n",
    "valuenum.to_csv(\"gen_data/valuenum.csv\")"
   ]
  },
  {
   "cell_type": "code",
   "execution_count": 23,
   "metadata": {},
   "outputs": [
    {
     "data": {
      "text/plain": [
       "Index(['on', 'no-heating', 'deposit-is-obligatory', 'final-cleaning-in-price',\n",
       "       'yes-free', 'bed_linen_change_weekly', 'towels_change_weekly',\n",
       "       'towels_pperson_standard_plus_mini', 'yes-electicity-in-price',\n",
       "       'no-gas', 'yes-water-in-price', 'no', 'wifi', 'int-con-some-rooms',\n",
       "       'park_private', 'park_loc_on_site', 'second_floor',\n",
       "       'no_private_entrance', 'no_wheelchair_accessible',\n",
       "       'yes-children-are-wellcome', 'first_floor', 'not-available',\n",
       "       'meals_not_serve', 'breakfast_not_serve', 'lunch_not_serve',\n",
       "       'dinner_not_serve', 'yes_free', 'parking_yes_free', 'not_needed',\n",
       "       'yes_pets', 'pets_charges_may_apply', 'yes-gas-in-price',\n",
       "       'int-con-all-rooms', 'not-accept', 'off', 'extra_beds_not_available',\n",
       "       'no_pets', 'yes-heating-in-price', 'no-deposit',\n",
       "       'upper_floor_reachable_by_stairs_only', 'ground_floor',\n",
       "       'entire_property_on_ground_floor', 'third_floor', 'towels_pperson_set',\n",
       "       'park_public', 'park_loc_off_site', 'no_such_thing', 'yes-paid',\n",
       "       'parking_yes_paid', 'yes-heating-charged', 'yes_obligatory',\n",
       "       'no_parking', 'not_available', 'final-cleaning-charged', 'fourth_floor',\n",
       "       'pets_upon_request', 'int-con-entire-property',\n",
       "       'yes-children-to-four-without-bad-free', 'towels_change_daily',\n",
       "       'pets_free_no_charges', 'yes-gas-charged', 'extra_beds_available',\n",
       "       'yes_paid_stay', 'yes', 'towels_pperson_standard', 'yes-water-charged',\n",
       "       'towels_pperson_2mini', 'yes-children-to-four-without-bad-pay',\n",
       "       'card_payment_not_accepted', 'int-con-public-areas',\n",
       "       'int-con-business-centre', 'entire_property'],\n",
       "      dtype='object')"
      ]
     },
     "execution_count": 23,
     "metadata": {},
     "output_type": "execute_result"
    }
   ],
   "source": [
    "valuenum.index"
   ]
  },
  {
   "cell_type": "code",
   "execution_count": 24,
   "metadata": {},
   "outputs": [],
   "source": [
    "facility_v = facility.replace(valuenum.index,valuenum)\n",
    "#facility_v.head(50)\n",
    "facility[\"new_values\"]=facility_v[\"value\"]\n"
   ]
  },
  {
   "cell_type": "code",
   "execution_count": null,
   "metadata": {},
   "outputs": [],
   "source": []
  },
  {
   "cell_type": "code",
   "execution_count": 25,
   "metadata": {},
   "outputs": [],
   "source": [
    "facility.to_csv(\"gen_data/facility_nvls.csv\")"
   ]
  },
  {
   "cell_type": "code",
   "execution_count": 26,
   "metadata": {},
   "outputs": [
    {
     "data": {
      "text/html": [
       "<div>\n",
       "<style scoped>\n",
       "    .dataframe tbody tr th:only-of-type {\n",
       "        vertical-align: middle;\n",
       "    }\n",
       "\n",
       "    .dataframe tbody tr th {\n",
       "        vertical-align: top;\n",
       "    }\n",
       "\n",
       "    .dataframe thead th {\n",
       "        text-align: right;\n",
       "    }\n",
       "</style>\n",
       "<table border=\"1\" class=\"dataframe\">\n",
       "  <thead>\n",
       "    <tr style=\"text-align: right;\">\n",
       "      <th></th>\n",
       "      <th>facility_sub_grp</th>\n",
       "      <th>facility_code</th>\n",
       "      <th>value</th>\n",
       "      <th>new_values</th>\n",
       "    </tr>\n",
       "    <tr>\n",
       "      <th>id_property_unit</th>\n",
       "      <th></th>\n",
       "      <th></th>\n",
       "      <th></th>\n",
       "      <th></th>\n",
       "    </tr>\n",
       "  </thead>\n",
       "  <tbody>\n",
       "    <tr>\n",
       "      <th>23113</th>\n",
       "      <td>unit_bedroom_equipment</td>\n",
       "      <td>twin_bed</td>\n",
       "      <td>on</td>\n",
       "      <td>1</td>\n",
       "    </tr>\n",
       "    <tr>\n",
       "      <th>23113</th>\n",
       "      <td>unit_bedroom_equipment</td>\n",
       "      <td>unit_wardrobe_closet</td>\n",
       "      <td>on</td>\n",
       "      <td>1</td>\n",
       "    </tr>\n",
       "    <tr>\n",
       "      <th>23113</th>\n",
       "      <td>unit_bedroom_equipment</td>\n",
       "      <td>unit_bedroom_parquet_floor</td>\n",
       "      <td>on</td>\n",
       "      <td>1</td>\n",
       "    </tr>\n",
       "    <tr>\n",
       "      <th>23113</th>\n",
       "      <td>unit_bedroom_equipment</td>\n",
       "      <td>twin_bed</td>\n",
       "      <td>on</td>\n",
       "      <td>1</td>\n",
       "    </tr>\n",
       "    <tr>\n",
       "      <th>23113</th>\n",
       "      <td>unit_bedroom_equipment</td>\n",
       "      <td>unit_wardrobe_closet</td>\n",
       "      <td>on</td>\n",
       "      <td>1</td>\n",
       "    </tr>\n",
       "    <tr>\n",
       "      <th>...</th>\n",
       "      <td>...</td>\n",
       "      <td>...</td>\n",
       "      <td>...</td>\n",
       "      <td>...</td>\n",
       "    </tr>\n",
       "    <tr>\n",
       "      <th>23113</th>\n",
       "      <td>unit_building_facilities</td>\n",
       "      <td>private_entrance</td>\n",
       "      <td>no_private_entrance</td>\n",
       "      <td>-1</td>\n",
       "    </tr>\n",
       "    <tr>\n",
       "      <th>23113</th>\n",
       "      <td>unit_building_facilities</td>\n",
       "      <td>dostupnost_inv_kolica</td>\n",
       "      <td>no_wheelchair_accessible</td>\n",
       "      <td>-1</td>\n",
       "    </tr>\n",
       "    <tr>\n",
       "      <th>23113</th>\n",
       "      <td>unit_maindata_others</td>\n",
       "      <td>children_ok</td>\n",
       "      <td>yes-children-are-wellcome</td>\n",
       "      <td>1</td>\n",
       "    </tr>\n",
       "    <tr>\n",
       "      <th>23113</th>\n",
       "      <td>room_buliding</td>\n",
       "      <td>balcony</td>\n",
       "      <td>on</td>\n",
       "      <td>1</td>\n",
       "    </tr>\n",
       "    <tr>\n",
       "      <th>23113</th>\n",
       "      <td>room_buliding</td>\n",
       "      <td>room_terrace</td>\n",
       "      <td>on</td>\n",
       "      <td>1</td>\n",
       "    </tr>\n",
       "  </tbody>\n",
       "</table>\n",
       "<p>79 rows × 4 columns</p>\n",
       "</div>"
      ],
      "text/plain": [
       "                          facility_sub_grp               facility_code  \\\n",
       "id_property_unit                                                         \n",
       "23113               unit_bedroom_equipment                    twin_bed   \n",
       "23113               unit_bedroom_equipment        unit_wardrobe_closet   \n",
       "23113               unit_bedroom_equipment  unit_bedroom_parquet_floor   \n",
       "23113               unit_bedroom_equipment                    twin_bed   \n",
       "23113               unit_bedroom_equipment        unit_wardrobe_closet   \n",
       "...                                    ...                         ...   \n",
       "23113             unit_building_facilities            private_entrance   \n",
       "23113             unit_building_facilities       dostupnost_inv_kolica   \n",
       "23113                 unit_maindata_others                 children_ok   \n",
       "23113                        room_buliding                     balcony   \n",
       "23113                        room_buliding                room_terrace   \n",
       "\n",
       "                                      value new_values  \n",
       "id_property_unit                                        \n",
       "23113                                    on          1  \n",
       "23113                                    on          1  \n",
       "23113                                    on          1  \n",
       "23113                                    on          1  \n",
       "23113                                    on          1  \n",
       "...                                     ...        ...  \n",
       "23113                   no_private_entrance         -1  \n",
       "23113              no_wheelchair_accessible         -1  \n",
       "23113             yes-children-are-wellcome          1  \n",
       "23113                                    on          1  \n",
       "23113                                    on          1  \n",
       "\n",
       "[79 rows x 4 columns]"
      ]
     },
     "execution_count": 26,
     "metadata": {},
     "output_type": "execute_result"
    }
   ],
   "source": [
    "facilities = facility.set_index(facility[\"id_property_unit\"])[[\"facility_sub_grp\",\"facility_code\", \"value\",\"new_values\"]]\n",
    "facilities.head()\n",
    "\n",
    "#facilities.loc[24477]\n",
    "facilities.loc[23113]"
   ]
  },
  {
   "cell_type": "markdown",
   "metadata": {},
   "source": [
    "## uredivanje distance value u float i spremanje"
   ]
  },
  {
   "cell_type": "code",
   "execution_count": 27,
   "metadata": {},
   "outputs": [
    {
     "name": "stdout",
     "output_type": "stream",
     "text": [
      "(211171, 6)\n",
      "(165342, 6)\n"
     ]
    }
   ],
   "source": [
    "\"\"\"cfacility = facility.drop(facility.index[facility['new_values'] == facility[\"value\"]])\n",
    "print(facility.shape)\n",
    "print(cfacility.shape)\"\"\"\n",
    "                                        #krivo, brise sve distance"
   ]
  },
  {
   "cell_type": "code",
   "execution_count": 28,
   "metadata": {},
   "outputs": [],
   "source": [
    "# gornja celija brise i sve distance jer oni nemaju new value \n",
    "#cfacility.to_csv(\"gen_data/facility_new_only.csv\")"
   ]
  },
  {
   "cell_type": "code",
   "execution_count": null,
   "metadata": {},
   "outputs": [],
   "source": []
  },
  {
   "cell_type": "code",
   "execution_count": 39,
   "metadata": {},
   "outputs": [
    {
     "data": {
      "text/html": [
       "<div>\n",
       "<style scoped>\n",
       "    .dataframe tbody tr th:only-of-type {\n",
       "        vertical-align: middle;\n",
       "    }\n",
       "\n",
       "    .dataframe tbody tr th {\n",
       "        vertical-align: top;\n",
       "    }\n",
       "\n",
       "    .dataframe thead th {\n",
       "        text-align: right;\n",
       "    }\n",
       "</style>\n",
       "<table border=\"1\" class=\"dataframe\">\n",
       "  <thead>\n",
       "    <tr style=\"text-align: right;\">\n",
       "      <th></th>\n",
       "      <th>id_property_unit</th>\n",
       "      <th>id_property</th>\n",
       "      <th>facility_sub_grp</th>\n",
       "      <th>facility_code</th>\n",
       "      <th>value</th>\n",
       "      <th>new_values</th>\n",
       "    </tr>\n",
       "  </thead>\n",
       "  <tbody>\n",
       "    <tr>\n",
       "      <th>180</th>\n",
       "      <td>0</td>\n",
       "      <td>1817</td>\n",
       "      <td>disg_common</td>\n",
       "      <td>center</td>\n",
       "      <td>1</td>\n",
       "      <td>1.00</td>\n",
       "    </tr>\n",
       "    <tr>\n",
       "      <th>181</th>\n",
       "      <td>0</td>\n",
       "      <td>1817</td>\n",
       "      <td>disg_common</td>\n",
       "      <td>dis_park</td>\n",
       "      <td>1</td>\n",
       "      <td>1.00</td>\n",
       "    </tr>\n",
       "    <tr>\n",
       "      <th>182</th>\n",
       "      <td>0</td>\n",
       "      <td>1817</td>\n",
       "      <td>disg_common</td>\n",
       "      <td>sea</td>\n",
       "      <td>0.4</td>\n",
       "      <td>0.40</td>\n",
       "    </tr>\n",
       "    <tr>\n",
       "      <th>183</th>\n",
       "      <td>0</td>\n",
       "      <td>1817</td>\n",
       "      <td>disg_common</td>\n",
       "      <td>dis_hospital</td>\n",
       "      <td>2</td>\n",
       "      <td>2.00</td>\n",
       "    </tr>\n",
       "    <tr>\n",
       "      <th>184</th>\n",
       "      <td>0</td>\n",
       "      <td>1817</td>\n",
       "      <td>disg_common</td>\n",
       "      <td>dis_police</td>\n",
       "      <td>1.5</td>\n",
       "      <td>1.50</td>\n",
       "    </tr>\n",
       "    <tr>\n",
       "      <th>...</th>\n",
       "      <td>...</td>\n",
       "      <td>...</td>\n",
       "      <td>...</td>\n",
       "      <td>...</td>\n",
       "      <td>...</td>\n",
       "      <td>...</td>\n",
       "    </tr>\n",
       "    <tr>\n",
       "      <th>210795</th>\n",
       "      <td>0</td>\n",
       "      <td>10599</td>\n",
       "      <td>disg_common</td>\n",
       "      <td>sea</td>\n",
       "      <td>0.55</td>\n",
       "      <td>0.55</td>\n",
       "    </tr>\n",
       "    <tr>\n",
       "      <th>210920</th>\n",
       "      <td>0</td>\n",
       "      <td>10601</td>\n",
       "      <td>disg_common</td>\n",
       "      <td>center</td>\n",
       "      <td>0.3</td>\n",
       "      <td>0.30</td>\n",
       "    </tr>\n",
       "    <tr>\n",
       "      <th>210921</th>\n",
       "      <td>0</td>\n",
       "      <td>10601</td>\n",
       "      <td>disg_common</td>\n",
       "      <td>sea</td>\n",
       "      <td>0.45</td>\n",
       "      <td>0.45</td>\n",
       "    </tr>\n",
       "    <tr>\n",
       "      <th>211117</th>\n",
       "      <td>0</td>\n",
       "      <td>10647</td>\n",
       "      <td>disg_common</td>\n",
       "      <td>center</td>\n",
       "      <td>1.5</td>\n",
       "      <td>1.50</td>\n",
       "    </tr>\n",
       "    <tr>\n",
       "      <th>211118</th>\n",
       "      <td>0</td>\n",
       "      <td>10647</td>\n",
       "      <td>disg_common</td>\n",
       "      <td>sea</td>\n",
       "      <td>1.5</td>\n",
       "      <td>1.50</td>\n",
       "    </tr>\n",
       "  </tbody>\n",
       "</table>\n",
       "<p>2533 rows × 6 columns</p>\n",
       "</div>"
      ],
      "text/plain": [
       "        id_property_unit  id_property facility_sub_grp facility_code value  \\\n",
       "180                    0         1817      disg_common        center     1   \n",
       "181                    0         1817      disg_common      dis_park     1   \n",
       "182                    0         1817      disg_common           sea   0.4   \n",
       "183                    0         1817      disg_common  dis_hospital     2   \n",
       "184                    0         1817      disg_common    dis_police   1.5   \n",
       "...                  ...          ...              ...           ...   ...   \n",
       "210795                 0        10599      disg_common           sea  0.55   \n",
       "210920                 0        10601      disg_common        center   0.3   \n",
       "210921                 0        10601      disg_common           sea  0.45   \n",
       "211117                 0        10647      disg_common        center   1.5   \n",
       "211118                 0        10647      disg_common           sea   1.5   \n",
       "\n",
       "        new_values  \n",
       "180           1.00  \n",
       "181           1.00  \n",
       "182           0.40  \n",
       "183           2.00  \n",
       "184           1.50  \n",
       "...            ...  \n",
       "210795        0.55  \n",
       "210920        0.30  \n",
       "210921        0.45  \n",
       "211117        1.50  \n",
       "211118        1.50  \n",
       "\n",
       "[2533 rows x 6 columns]"
      ]
     },
     "execution_count": 39,
     "metadata": {},
     "output_type": "execute_result"
    }
   ],
   "source": [
    "numfacility = facility\n",
    "\n",
    "numfacility[\"new_values\"] = pd.to_numeric(numfacility[\"new_values\"],errors=\"coerce\")\n",
    "#print(numfacility.dtypes)\n",
    "numfacility[numfacility[\"facility_sub_grp\"]==\"disg_common\"]"
   ]
  },
  {
   "cell_type": "markdown",
   "metadata": {},
   "source": [
    "### Zadrzavanje samo brojcanih vrijednosti i spremanje float_facility.csv"
   ]
  },
  {
   "cell_type": "code",
   "execution_count": 30,
   "metadata": {},
   "outputs": [
    {
     "name": "stdout",
     "output_type": "stream",
     "text": [
      "(185568, 6)\n",
      "(211171, 6)\n"
     ]
    }
   ],
   "source": [
    "nfacility = numfacility.dropna(subset=[\"new_values\"])\n",
    "print(nfacility.shape)\n",
    "print(numfacility.shape)"
   ]
  },
  {
   "cell_type": "code",
   "execution_count": 31,
   "metadata": {},
   "outputs": [],
   "source": [
    "nfacility.to_csv(\"gen_data/float_facility.csv\")"
   ]
  },
  {
   "cell_type": "code",
   "execution_count": 32,
   "metadata": {},
   "outputs": [
    {
     "name": "stdout",
     "output_type": "stream",
     "text": [
      "[nan, 'disg_common', 'disg_transport', 'disg_sea', 'disg_beaches', 'disg_shops', 'disg_services', 'disg_public_parking']\n",
      "['center', 'dis_park', 'sea', 'dis_hospital', 'dis_police', 'bus', 'public_transport', 'dis_taxi', 'airport', 'highway', 'train', 'distance_ferryboat', 'beach_bar', 'water_sports', 'diving', 'water_skiing', 'boathire', 'distance_moorage', 'sailing', 'beach_concrete', 'beach', 'beach_sandy', 'beach_shingle', 'beach_rock', 'beach_grass', 'distance_children_beach', 'kiosk', 'supermarket', 'souvenirshop', 'grocery_shop', 'green_market', 'bank', 'atm', 'exchange', 'post', 'restaurant', 'public_phone', 'hairdresser', 'beauty_salon', 'internet_caffe', 'photocopy', 'laundry', 'laundry_self_service', 'conference_room', 'dry_cleaning', 'meeting_room', 'payparking', 'parking']\n",
      "[0]\n"
     ]
    }
   ],
   "source": [
    "ls8 = sort(\"disg\",facility[\"facility_sub_grp\"]).unique().tolist()\n",
    "print(ls8)\n",
    "ls9=[]\n",
    "dist_grp = ['disg_common', 'disg_transport', 'disg_sea', 'disg_beaches', 'disg_shops', 'disg_services', 'disg_public_parking']\n",
    "for i in dist_grp:\n",
    "    lsi = facility[facility[\"facility_sub_grp\"]==i][\"facility_code\"].unique().tolist()\n",
    "    for j in lsi:\n",
    "        ls9.append(j)\n",
    "print(ls9)\n",
    "\n",
    "dst =facility[facility[\"facility_sub_grp\"]==\"disg_common\"][\"id_property_unit\"].unique()\n",
    "print(dst)"
   ]
  },
  {
   "cell_type": "code",
   "execution_count": 43,
   "metadata": {},
   "outputs": [
    {
     "data": {
      "text/html": [
       "<div>\n",
       "<style scoped>\n",
       "    .dataframe tbody tr th:only-of-type {\n",
       "        vertical-align: middle;\n",
       "    }\n",
       "\n",
       "    .dataframe tbody tr th {\n",
       "        vertical-align: top;\n",
       "    }\n",
       "\n",
       "    .dataframe thead th {\n",
       "        text-align: right;\n",
       "    }\n",
       "</style>\n",
       "<table border=\"1\" class=\"dataframe\">\n",
       "  <thead>\n",
       "    <tr style=\"text-align: right;\">\n",
       "      <th></th>\n",
       "      <th>id_property_unit</th>\n",
       "      <th>id_property</th>\n",
       "      <th>facility_sub_grp</th>\n",
       "      <th>facility_code</th>\n",
       "      <th>value</th>\n",
       "      <th>new_values</th>\n",
       "    </tr>\n",
       "  </thead>\n",
       "  <tbody>\n",
       "    <tr>\n",
       "      <th>185</th>\n",
       "      <td>0</td>\n",
       "      <td>1817</td>\n",
       "      <td>disg_transport</td>\n",
       "      <td>bus</td>\n",
       "      <td>1</td>\n",
       "      <td>1.0</td>\n",
       "    </tr>\n",
       "    <tr>\n",
       "      <th>186</th>\n",
       "      <td>0</td>\n",
       "      <td>1817</td>\n",
       "      <td>disg_transport</td>\n",
       "      <td>public_transport</td>\n",
       "      <td>1</td>\n",
       "      <td>1.0</td>\n",
       "    </tr>\n",
       "    <tr>\n",
       "      <th>187</th>\n",
       "      <td>0</td>\n",
       "      <td>1817</td>\n",
       "      <td>disg_transport</td>\n",
       "      <td>dis_taxi</td>\n",
       "      <td>1</td>\n",
       "      <td>1.0</td>\n",
       "    </tr>\n",
       "    <tr>\n",
       "      <th>188</th>\n",
       "      <td>0</td>\n",
       "      <td>1817</td>\n",
       "      <td>disg_transport</td>\n",
       "      <td>airport</td>\n",
       "      <td>21</td>\n",
       "      <td>21.0</td>\n",
       "    </tr>\n",
       "    <tr>\n",
       "      <th>389</th>\n",
       "      <td>0</td>\n",
       "      <td>1818</td>\n",
       "      <td>disg_transport</td>\n",
       "      <td>bus</td>\n",
       "      <td>1.2</td>\n",
       "      <td>1.2</td>\n",
       "    </tr>\n",
       "    <tr>\n",
       "      <th>...</th>\n",
       "      <td>...</td>\n",
       "      <td>...</td>\n",
       "      <td>...</td>\n",
       "      <td>...</td>\n",
       "      <td>...</td>\n",
       "      <td>...</td>\n",
       "    </tr>\n",
       "    <tr>\n",
       "      <th>210923</th>\n",
       "      <td>0</td>\n",
       "      <td>10601</td>\n",
       "      <td>disg_transport</td>\n",
       "      <td>airport</td>\n",
       "      <td>45</td>\n",
       "      <td>45.0</td>\n",
       "    </tr>\n",
       "    <tr>\n",
       "      <th>210924</th>\n",
       "      <td>0</td>\n",
       "      <td>10601</td>\n",
       "      <td>disg_transport</td>\n",
       "      <td>distance_ferryboat</td>\n",
       "      <td>30</td>\n",
       "      <td>30.0</td>\n",
       "    </tr>\n",
       "    <tr>\n",
       "      <th>211119</th>\n",
       "      <td>0</td>\n",
       "      <td>10647</td>\n",
       "      <td>disg_transport</td>\n",
       "      <td>train</td>\n",
       "      <td>75</td>\n",
       "      <td>75.0</td>\n",
       "    </tr>\n",
       "    <tr>\n",
       "      <th>211120</th>\n",
       "      <td>0</td>\n",
       "      <td>10647</td>\n",
       "      <td>disg_transport</td>\n",
       "      <td>airport</td>\n",
       "      <td>45</td>\n",
       "      <td>45.0</td>\n",
       "    </tr>\n",
       "    <tr>\n",
       "      <th>211121</th>\n",
       "      <td>0</td>\n",
       "      <td>10647</td>\n",
       "      <td>disg_transport</td>\n",
       "      <td>distance_ferryboat</td>\n",
       "      <td>30</td>\n",
       "      <td>30.0</td>\n",
       "    </tr>\n",
       "  </tbody>\n",
       "</table>\n",
       "<p>3545 rows × 6 columns</p>\n",
       "</div>"
      ],
      "text/plain": [
       "        id_property_unit  id_property facility_sub_grp       facility_code  \\\n",
       "185                    0         1817   disg_transport                 bus   \n",
       "186                    0         1817   disg_transport    public_transport   \n",
       "187                    0         1817   disg_transport            dis_taxi   \n",
       "188                    0         1817   disg_transport             airport   \n",
       "389                    0         1818   disg_transport                 bus   \n",
       "...                  ...          ...              ...                 ...   \n",
       "210923                 0        10601   disg_transport             airport   \n",
       "210924                 0        10601   disg_transport  distance_ferryboat   \n",
       "211119                 0        10647   disg_transport               train   \n",
       "211120                 0        10647   disg_transport             airport   \n",
       "211121                 0        10647   disg_transport  distance_ferryboat   \n",
       "\n",
       "       value  new_values  \n",
       "185        1         1.0  \n",
       "186        1         1.0  \n",
       "187        1         1.0  \n",
       "188       21        21.0  \n",
       "389      1.2         1.2  \n",
       "...      ...         ...  \n",
       "210923    45        45.0  \n",
       "210924    30        30.0  \n",
       "211119    75        75.0  \n",
       "211120    45        45.0  \n",
       "211121    30        30.0  \n",
       "\n",
       "[3545 rows x 6 columns]"
      ]
     },
     "execution_count": 43,
     "metadata": {},
     "output_type": "execute_result"
    }
   ],
   "source": [
    "facility[facility[\"facility_sub_grp\"]==\"disg_transport\"]"
   ]
  },
  {
   "cell_type": "markdown",
   "metadata": {},
   "source": [
    "## Grupiranje znacajki prema facility_sub_grp"
   ]
  },
  {
   "cell_type": "code",
   "execution_count": 44,
   "metadata": {},
   "outputs": [
    {
     "data": {
      "text/plain": [
       "array([nan, 'unit_bedroom_equipment', 'kitchen',\n",
       "       'unit_bathroom_equipment', 'unit_equipment',\n",
       "       'unit_living_equipment', 'unit_extras_others', 'unit_bed_linen',\n",
       "       'unit_towels', 'unit_cloths', 'sg_water_gas_electricity',\n",
       "       'sg_house_rules', 'sg_internet', 'sg_parking', 'sg_pets',\n",
       "       'sg_kids_policy', 'unit_building_facilities',\n",
       "       'unit_maindata_others', 'sq_mandatory_at_reservation',\n",
       "       'policies_cancelation', 'sg_free_cancelation_ar', 'parking_garage',\n",
       "       'backyard', 'disg_common', 'disg_transport',\n",
       "       'property_final_cleaning', 'property_security_deposit',\n",
       "       'property_bed_linen', 'property_towels', 'property_kitchen_cloth',\n",
       "       'property_sg_gas', 'property_sg_electricity', 'property_sg_water',\n",
       "       'property_extras_others', 'sg_extra_service_main',\n",
       "       'sg_property_food_beverages_main', 'sg_property_food_bev_meals',\n",
       "       'hoby', 'leisure', 'sg_electricity', 'sg_water', 'sg_hot_water',\n",
       "       'property_sg_internet', 'property_sg_parking', 'property_sg_pets',\n",
       "       'main', 'property_equipment', 'sg_service', 'sg_special',\n",
       "       'sg_language', 'sg_view', 'disg_sea', 'disg_beaches', 'disg_shops',\n",
       "       'disg_services', 'disg_public_parking', 'sport', 'rdsg_food',\n",
       "       'rdsg_shop', 'rdsg_nature', 'rdsg_culture', 'rdsg_kopno',\n",
       "       'rdsg_zrak', 'rdsg_more', 'room_buliding', 'property_city_tax',\n",
       "       'health', 'unit_gradevinske_znacajke', 'sg_location', 'children',\n",
       "       'unit_towels_bed_linen', 'sg_reservation_cond',\n",
       "       'unit_pogled_mikrolokacija', 'sport_zabava', 'spa_pool',\n",
       "       'sg_paying', 'public_pools', 'room_equipment',\n",
       "       'sq_guarantee_payment', 'snow', 'sg_food'], dtype=object)"
      ]
     },
     "execution_count": 44,
     "metadata": {},
     "output_type": "execute_result"
    }
   ],
   "source": [
    "facilities[\"facility_sub_grp\"].unique()"
   ]
  },
  {
   "cell_type": "code",
   "execution_count": 35,
   "metadata": {},
   "outputs": [
    {
     "data": {
      "text/plain": [
       "array(['refrigerator', 'dishes', 'oven_pu', 'freezing_compartment',\n",
       "       'dishwasher', 'microwave', 'toaster', 'tea', 'coffee', 'stove',\n",
       "       'cooking_electric', 'shared_barbecue', 'cooking_gas',\n",
       "       'grilling_not_allowed', 'private_barbecue', 'freezer', 'mini_oven',\n",
       "       'cooking_highchair'], dtype=object)"
      ]
     },
     "execution_count": 35,
     "metadata": {},
     "output_type": "execute_result"
    }
   ],
   "source": [
    "facilities[facilities[\"facility_sub_grp\"] == 'kitchen'][\"facility_code\"].unique()"
   ]
  },
  {
   "cell_type": "code",
   "execution_count": 36,
   "metadata": {},
   "outputs": [
    {
     "data": {
      "text/html": [
       "<div>\n",
       "<style scoped>\n",
       "    .dataframe tbody tr th:only-of-type {\n",
       "        vertical-align: middle;\n",
       "    }\n",
       "\n",
       "    .dataframe tbody tr th {\n",
       "        vertical-align: top;\n",
       "    }\n",
       "\n",
       "    .dataframe thead th {\n",
       "        text-align: right;\n",
       "    }\n",
       "</style>\n",
       "<table border=\"1\" class=\"dataframe\">\n",
       "  <thead>\n",
       "    <tr style=\"text-align: right;\">\n",
       "      <th></th>\n",
       "      <th>facility_sub_grp</th>\n",
       "      <th>facility_code</th>\n",
       "      <th>value</th>\n",
       "      <th>new_values</th>\n",
       "    </tr>\n",
       "    <tr>\n",
       "      <th>id_property_unit</th>\n",
       "      <th></th>\n",
       "      <th></th>\n",
       "      <th></th>\n",
       "      <th></th>\n",
       "    </tr>\n",
       "  </thead>\n",
       "  <tbody>\n",
       "    <tr>\n",
       "      <th>3623</th>\n",
       "      <td>kitchen</td>\n",
       "      <td>refrigerator</td>\n",
       "      <td>on</td>\n",
       "      <td>1</td>\n",
       "    </tr>\n",
       "    <tr>\n",
       "      <th>3623</th>\n",
       "      <td>kitchen</td>\n",
       "      <td>dishes</td>\n",
       "      <td>on</td>\n",
       "      <td>1</td>\n",
       "    </tr>\n",
       "    <tr>\n",
       "      <th>3623</th>\n",
       "      <td>kitchen</td>\n",
       "      <td>oven_pu</td>\n",
       "      <td>on</td>\n",
       "      <td>1</td>\n",
       "    </tr>\n",
       "    <tr>\n",
       "      <th>3623</th>\n",
       "      <td>kitchen</td>\n",
       "      <td>freezing_compartment</td>\n",
       "      <td>on</td>\n",
       "      <td>1</td>\n",
       "    </tr>\n",
       "    <tr>\n",
       "      <th>3623</th>\n",
       "      <td>kitchen</td>\n",
       "      <td>dishwasher</td>\n",
       "      <td>on</td>\n",
       "      <td>1</td>\n",
       "    </tr>\n",
       "    <tr>\n",
       "      <th>...</th>\n",
       "      <td>...</td>\n",
       "      <td>...</td>\n",
       "      <td>...</td>\n",
       "      <td>...</td>\n",
       "    </tr>\n",
       "    <tr>\n",
       "      <th>25788</th>\n",
       "      <td>kitchen</td>\n",
       "      <td>freezing_compartment</td>\n",
       "      <td>on</td>\n",
       "      <td>1</td>\n",
       "    </tr>\n",
       "    <tr>\n",
       "      <th>25788</th>\n",
       "      <td>kitchen</td>\n",
       "      <td>microwave</td>\n",
       "      <td>on</td>\n",
       "      <td>1</td>\n",
       "    </tr>\n",
       "    <tr>\n",
       "      <th>25788</th>\n",
       "      <td>kitchen</td>\n",
       "      <td>cooking_electric</td>\n",
       "      <td>on</td>\n",
       "      <td>1</td>\n",
       "    </tr>\n",
       "    <tr>\n",
       "      <th>25788</th>\n",
       "      <td>kitchen</td>\n",
       "      <td>tea</td>\n",
       "      <td>on</td>\n",
       "      <td>1</td>\n",
       "    </tr>\n",
       "    <tr>\n",
       "      <th>25788</th>\n",
       "      <td>kitchen</td>\n",
       "      <td>coffee</td>\n",
       "      <td>on</td>\n",
       "      <td>1</td>\n",
       "    </tr>\n",
       "  </tbody>\n",
       "</table>\n",
       "<p>12220 rows × 4 columns</p>\n",
       "</div>"
      ],
      "text/plain": [
       "                 facility_sub_grp         facility_code value new_values\n",
       "id_property_unit                                                        \n",
       "3623                      kitchen          refrigerator    on          1\n",
       "3623                      kitchen                dishes    on          1\n",
       "3623                      kitchen               oven_pu    on          1\n",
       "3623                      kitchen  freezing_compartment    on          1\n",
       "3623                      kitchen            dishwasher    on          1\n",
       "...                           ...                   ...   ...        ...\n",
       "25788                     kitchen  freezing_compartment    on          1\n",
       "25788                     kitchen             microwave    on          1\n",
       "25788                     kitchen      cooking_electric    on          1\n",
       "25788                     kitchen                   tea    on          1\n",
       "25788                     kitchen                coffee    on          1\n",
       "\n",
       "[12220 rows x 4 columns]"
      ]
     },
     "execution_count": 36,
     "metadata": {},
     "output_type": "execute_result"
    }
   ],
   "source": [
    "facilities[facilities[\"facility_sub_grp\"] == 'kitchen']"
   ]
  },
  {
   "cell_type": "code",
   "execution_count": null,
   "metadata": {},
   "outputs": [],
   "source": []
  },
  {
   "cell_type": "code",
   "execution_count": null,
   "metadata": {},
   "outputs": [],
   "source": []
  }
 ],
 "metadata": {
  "interpreter": {
   "hash": "50c5e99bf4ebd5b12b172150eb5a5c1f0c5d53cea0aeb0ef1e5deb10d0bca0e6"
  },
  "kernelspec": {
   "display_name": "Python 3.9.7 ('AGprojekt')",
   "language": "python",
   "name": "python3"
  },
  "language_info": {
   "codemirror_mode": {
    "name": "ipython",
    "version": 3
   },
   "file_extension": ".py",
   "mimetype": "text/x-python",
   "name": "python",
   "nbconvert_exporter": "python",
   "pygments_lexer": "ipython3",
   "version": "3.9.7"
  },
  "orig_nbformat": 4
 },
 "nbformat": 4,
 "nbformat_minor": 2
}
